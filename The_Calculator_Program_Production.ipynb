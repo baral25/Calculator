{
  "nbformat": 4,
  "nbformat_minor": 0,
  "metadata": {
    "colab": {
      "name": "The_Calculator_Program_Production.ipynb",
      "provenance": [],
      "include_colab_link": true
    },
    "kernelspec": {
      "name": "python3",
      "display_name": "Python 3"
    },
    "language_info": {
      "name": "python"
    }
  },
  "cells": [
    {
      "cell_type": "markdown",
      "metadata": {
        "id": "view-in-github",
        "colab_type": "text"
      },
      "source": [
        "<a href=\"https://colab.research.google.com/github/baral25/Calculator/blob/main/The_Calculator_Program_Production.ipynb\" target=\"_parent\"><img src=\"https://colab.research.google.com/assets/colab-badge.svg\" alt=\"Open In Colab\"/></a>"
      ]
    },
    {
      "cell_type": "markdown",
      "source": [
        "# Simple Calculator\n",
        "\n",
        "Provide a description"
      ],
      "metadata": {
        "id": "8D5d05fY8wir"
      }
    },
    {
      "cell_type": "markdown",
      "source": [
        "# Modules\n",
        "\n",
        "> *Note: The order of the following cells matter.*"
      ],
      "metadata": {
        "id": "QSdkJd8C86MM"
      }
    },
    {
      "cell_type": "markdown",
      "source": [
        "# Main Program"
      ],
      "metadata": {
        "id": "wo9hd-h587fF"
      }
    },
    {
      "cell_type": "code",
      "source": [
        "!pip install pyfiglet\n",
        "import pyfiglet as fig\n",
        "result = fig.figlet_format(\"CALCULATOR\")\n",
        "print(result)\n",
        "\n",
        "# Input from the user\n",
        "str = (\" (1) Addition \\n (2) Subtraction \\n (3) Multiplication \\n (4) Division\")\n",
        "print (str)\n",
        "print(\" \")\n",
        "\n",
        "x = int(input(\"Select the Operation required: \"))\n",
        "if x == 1:\n",
        "    add = fig.figlet_format(\"ADDITION\")\n",
        "    print(add)\n",
        "    a = int(input(\"Enter the first number: \"))\n",
        "    b = int(input(\"Enter the second number: \"))\n",
        "    sum = a +b\n",
        "    print (\"The sum of the two numbers is: \", sum)\n",
        "elif x == 2:\n",
        "    sub = fig.figlet_format(\"SUBTRACTION\")\n",
        "    print(sub)\n",
        "    a = int(input(\"Enter the first number: \"))\n",
        "    b = int(input(\"Enter the second number: \"))\n",
        "    sub = a - b\n",
        "    print (\"The difference between the two numbers is: \", sub)\n",
        "elif x==3:\n",
        "    mul = fig.figlet_format(\"MULTIPLICATION\")\n",
        "    print(mul)\n",
        "    a = int(input(\"Enter the first number: \"))\n",
        "    b = int(input(\"Enter the second number: \"))\n",
        "    mul = a * b\n",
        "    print (\"The product of the two numbers is: \", mul)\n",
        "elif x==4:\n",
        "    div = fig.figlet_format(\"DIVISION\")\n",
        "    print(div)\n",
        "    a = int(input(\"Enter the first number: \"))\n",
        "    b = int(input(\"Enter the second number: \"))\n",
        "    div = a / b\n",
        "    print (\"The divison of the two numbers is: \", div)\n",
        "else:\n",
        "    print(\"Invalid Selection, Select one of the four options provided above\")\n"
      ],
      "metadata": {
        "id": "p9OxYhpjVOUJ"
      },
      "execution_count": null,
      "outputs": []
    }
  ]
}