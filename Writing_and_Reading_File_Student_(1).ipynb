{
  "nbformat": 4,
  "nbformat_minor": 0,
  "metadata": {
    "colab": {
      "name": "Writing_and_Reading_File_Student (1).ipynb",
      "provenance": [],
      "include_colab_link": true
    },
    "kernelspec": {
      "name": "python3",
      "display_name": "Python 3"
    },
    "language_info": {
      "name": "python"
    }
  },
  "cells": [
    {
      "cell_type": "markdown",
      "metadata": {
        "id": "view-in-github",
        "colab_type": "text"
      },
      "source": [
        "<a href=\"https://colab.research.google.com/github/baral25/Calculator/blob/main/Writing_and_Reading_File_Student_(1).ipynb\" target=\"_parent\"><img src=\"https://colab.research.google.com/assets/colab-badge.svg\" alt=\"Open In Colab\"/></a>"
      ]
    },
    {
      "cell_type": "markdown",
      "source": [
        "\n",
        "## Writing to CSV file\n",
        "Write code that enables an instructor to enter each student’s first name and last name as strings and the student’s three exam grades as integers.\n",
        "\n",
        "Use the csv module to write each record into the grades.csv file.\n",
        "\n",
        "Each record should be a single line of text in the following CSV format:\n",
        "\n",
        "*firstname, lastname, exam1grade, exam2grade, exam3grade*\n"
      ],
      "metadata": {
        "id": "orQ8ij4s2CpY"
      }
    },
    {
      "cell_type": "code",
      "source": [
        "\n",
        "import csv\n",
        "field = ['FirstName', 'LastName', 'examgrade1' , 'examgrade2','examgrade3']\n",
        "row = [ ['Kay','Pete','A','A','A'],\n",
        "\t\t['Harry','Lewis','B','A','A'],\n",
        "\t\t['Jon','Dodson','C','C','A'],\n",
        "\t\t['Pete','Griffin','A','B','A']]\n",
        "filename = \"marks.csv\"\n",
        "with open(filename, 'w') as csvfile:\n",
        "\tcsvwriter = csv.writer(csvfile)\n",
        "\tcsvwriter.writerow(field)\n",
        "\tcsvwriter.writerows(row)\n"
      ],
      "metadata": {
        "id": "MP1Tw5de2cZg"
      },
      "execution_count": 18,
      "outputs": []
    },
    {
      "cell_type": "markdown",
      "source": [
        "## Reading from a csv file\n",
        "Use the csv module to read the grades.csv file and display the result."
      ],
      "metadata": {
        "id": "BYGLgzLV2gZY"
      }
    },
    {
      "cell_type": "code",
      "source": [
        "filename = \"marks.csv\"\n",
        "rows=[]\n",
        "with open(filename, 'r') as csvfile:\n",
        "  csvreader = csv.reader(csvfile)\n",
        "  fields = next(csvreader)\n",
        "  \n",
        "  for row  in csvreader:\n",
        "    rows.append(row)\n",
        "print('Field names:' + ', '.join(field for field in fields))\n",
        "print('The rows are:\\n')\n",
        "for row in rows:\n",
        "    # parsing each column of a row\n",
        "    for col in row:\n",
        "        print(\"%10s\"%col,end=\" \"),\n",
        "    print('\\n')\n",
        "    \n",
        "    \n",
        "\n",
        "\n"
      ],
      "metadata": {
        "id": "3yzghq6J2hZY",
        "colab": {
          "base_uri": "https://localhost:8080/"
        },
        "outputId": "fcb8457c-adc5-4f29-a280-814eda714763"
      },
      "execution_count": 51,
      "outputs": [
        {
          "output_type": "stream",
          "name": "stdout",
          "text": [
            "Total no. of rows: 5\n",
            "Field names:FirstName, LastName, examgrade1, examgrade2, examgrade3\n",
            "The rows are:\n",
            "\n",
            "       Kay       Pete          A          A          A \n",
            "\n",
            "     Harry      Lewis          B          A          A \n",
            "\n",
            "       Jon     Dodson          C          C          A \n",
            "\n",
            "      Pete    Griffin          A          B          A \n",
            "\n"
          ]
        }
      ]
    }
  ]
}