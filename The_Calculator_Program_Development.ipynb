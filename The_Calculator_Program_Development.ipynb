{
  "nbformat": 4,
  "nbformat_minor": 0,
  "metadata": {
    "colab": {
      "name": "The_Calculator_Program_Development.ipynb",
      "provenance": [],
      "include_colab_link": true
    },
    "kernelspec": {
      "name": "python3",
      "display_name": "Python 3"
    },
    "language_info": {
      "name": "python"
    }
  },
  "cells": [
    {
      "cell_type": "markdown",
      "metadata": {
        "id": "view-in-github",
        "colab_type": "text"
      },
      "source": [
        "<a href=\"https://colab.research.google.com/github/baral25/Calculator/blob/main/The_Calculator_Program_Development.ipynb\" target=\"_parent\"><img src=\"https://colab.research.google.com/assets/colab-badge.svg\" alt=\"Open In Colab\"/></a>"
      ]
    },
    {
      "cell_type": "markdown",
      "source": [
        "#The Calculator\n",
        "This notebook is an exercise in programming to help hone your skills through practice and repetition.\n",
        "\n",
        "## What are *our* Best Practices\n",
        "\n",
        "Here are the best practices we have been applying throughout the course.\n",
        "\n",
        "1. Use a code repository (*GitHub, small frequent commits*)\n",
        "2. Follow style guidelines (*PEP8*)\n",
        "3. Correct broken code immediately (*exception handling, input validation, testing*)\n",
        "4. Use the PyPI instead of doing it yourself (*search and import module*)\n",
        "5. Use the Right Data Types and Structures (*int, float, list, etc. *)\n",
        "6. Write Readable Code (*meaningful names and comments*)\n",
        "7. Create readable documentation (*Docstrings*)\n",
        "8. Use Virtual Environments (*Google VM instance, Binder*)\n",
        "9. Avoid anti-patterns (*be specific imports, exceptions etc. *)\n",
        "10. Follow *Zen of Python* (try *`import this`*)"
      ],
      "metadata": {
        "id": "in2iZP7A1rNP"
      }
    },
    {
      "cell_type": "markdown",
      "source": [
        "## The Challenge - Simple Calculator\n",
        "\n",
        "Write a program to prompt the user to select a mathematical operation and input two numbers. The program will then operate on the two numbers and output the result. The user will be able to continue performing operations on numbers or exit the program. The arithmetic operations include: \n",
        "* addition, \n",
        "* subtraction, \n",
        "* multiplication, and \n",
        "* division. \n",
        "\n",
        "Let's review the *Zen of Python*.  Run the following code cell"
      ],
      "metadata": {
        "id": "6McFoWcj2AUu"
      }
    },
    {
      "cell_type": "code",
      "execution_count": null,
      "metadata": {
        "id": "H_kOZrGM1e38"
      },
      "outputs": [],
      "source": [
        "import this"
      ]
    },
    {
      "cell_type": "markdown",
      "source": [
        "# Step 0 - Create code repository\n",
        "\n",
        "All projects need a project folder. Use the code repository to store the project. Go to GitHub, create a new repository with a meaningful name, like calculator, and add a README. Adding a readme file will initialise the repository. Initialising is *critical* and will make it easy to add files later.\n",
        "\n",
        "This notebook assumes we use Google Colab as the Integrated Development Environment (IDE). For our workflow and easy integration with the IDE, tick the box \"Include a link to Colaboratory\".\n",
        "\n",
        "This notebook will have small and frequent commits (Best Practice #1). You can look at the history of the notebook to view the commits."
      ],
      "metadata": {
        "id": "JqQiweAm3ENv"
      }
    },
    {
      "cell_type": "markdown",
      "source": [
        "# The Design - Algorithm/Pseudocode"
      ],
      "metadata": {
        "id": "Ogxm2XmL3ulZ"
      }
    },
    {
      "cell_type": "markdown",
      "source": [
        "# Step 1"
      ],
      "metadata": {
        "id": "XtuECEeh7iL4"
      }
    },
    {
      "cell_type": "markdown",
      "source": [
        "# Step 2"
      ],
      "metadata": {
        "id": "-eBvNsXb7jwJ"
      }
    },
    {
      "cell_type": "code",
      "source": [
        "!pip install pyfiglet\n",
        "import pyfiglet as fig\n",
        "result = fig.figlet_format(\"CALCULATOR\")\n",
        "print(result)\n",
        "\n",
        "# Input from the user\n",
        "str = (\" (1) Addition \\n (2) Subtraction \\n (3) Multiplication \\n (4) Division\")\n",
        "print (str)\n",
        "print(\" \")\n",
        "\n",
        "x = int(input(\"Select the Operation required: \"))\n",
        "if x == 1:\n",
        "    add = fig.figlet_format(\"ADDITION\")\n",
        "    print(add)\n",
        "    a = int(input(\"Enter the first number: \"))\n",
        "    b = int(input(\"Enter the second number: \"))\n",
        "    sum = a +b\n",
        "    print (\"The sum of the two numbers is: \", sum)\n",
        "elif x == 2:\n",
        "    sub = fig.figlet_format(\"SUBTRACTION\")\n",
        "    print(sub)\n",
        "    a = int(input(\"Enter the first number: \"))\n",
        "    b = int(input(\"Enter the second number: \"))\n",
        "    sub = a - b\n",
        "    print (\"The difference between the two numbers is: \", sub)\n",
        "elif x==3:\n",
        "    mul = fig.figlet_format(\"MULTIPLICATION\")\n",
        "    print(mul)\n",
        "    a = int(input(\"Enter the first number: \"))\n",
        "    b = int(input(\"Enter the second number: \"))\n",
        "    mul = a * b\n",
        "    print (\"The product of the two numbers is: \", mul)\n",
        "elif x==4:\n",
        "    div = fig.figlet_format(\"DIVISION\")\n",
        "    print(div)\n",
        "    a = int(input(\"Enter the first number: \"))\n",
        "    b = int(input(\"Enter the second number: \"))\n",
        "    div = a / b\n",
        "    print (\"The divison of the two numbers is: \", div)\n",
        "else:\n",
        "    print(\"Invalid Selection, Select one of the four options provided above\")\n"
      ],
      "metadata": {
        "colab": {
          "base_uri": "https://localhost:8080/"
        },
        "id": "LhKaLkEeN9oV",
        "outputId": "39f219b8-5eed-4d29-c2d3-eb2c2124eabf"
      },
      "execution_count": 35,
      "outputs": [
        {
          "output_type": "stream",
          "name": "stdout",
          "text": [
            "Requirement already satisfied: pyfiglet in /usr/local/lib/python3.7/dist-packages (0.8.post1)\n",
            "  ____    _    _     ____ _   _ _        _  _____ ___  ____  \n",
            " / ___|  / \\  | |   / ___| | | | |      / \\|_   _/ _ \\|  _ \\ \n",
            "| |     / _ \\ | |  | |   | | | | |     / _ \\ | || | | | |_) |\n",
            "| |___ / ___ \\| |__| |___| |_| | |___ / ___ \\| || |_| |  _ < \n",
            " \\____/_/   \\_\\_____\\____|\\___/|_____/_/   \\_\\_| \\___/|_| \\_\\\n",
            "                                                             \n",
            "\n",
            " (1) Addition \n",
            " (2) Subtraction \n",
            " (3) Multiplication \n",
            " (4) Division\n",
            " \n",
            "Select the Operation required: 6\n",
            "Invalid Selection, Select one of the four options provided above\n"
          ]
        }
      ]
    },
    {
      "cell_type": "markdown",
      "source": [
        "#Step x"
      ],
      "metadata": {
        "id": "Qr8QT_JA7lnB"
      }
    },
    {
      "cell_type": "markdown",
      "source": [
        "# Testing\n",
        "\n",
        "Now using the test-cases from design, test the program.\n",
        "\n",
        "\n",
        "\n",
        "# Development verse Production\n",
        "\n",
        "This notebook is not ready to be shared.  As an instructional tool, it serves to show the development process.  If you wanted to distribute the notebook, you would delete all unnecessary cells and text or create a new notebook with some introductory text and the program.\n",
        "\n"
      ],
      "metadata": {
        "id": "kX_5XB0H7ysR"
      }
    }
  ]
}